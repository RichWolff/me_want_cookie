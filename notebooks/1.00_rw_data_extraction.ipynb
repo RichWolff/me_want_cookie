{
 "cells": [
  {
   "cell_type": "code",
   "execution_count": null,
   "metadata": {},
   "outputs": [],
   "source": [
    "import requests\n",
    "from bs4 import BeautifulSoup\n",
    "import re\n",
    "import pandas as pd\n",
    "import pathlib"
   ]
  },
  {
   "cell_type": "code",
   "execution_count": null,
   "metadata": {},
   "outputs": [],
   "source": [
    "url = r\"https://muppet.fandom.com/wiki/Episode_5019\""
   ]
  },
  {
   "cell_type": "code",
   "execution_count": null,
   "metadata": {},
   "outputs": [],
   "source": [
    "# Get raw content\n",
    "req = requests.get(url)"
   ]
  },
  {
   "cell_type": "code",
   "execution_count": null,
   "metadata": {},
   "outputs": [],
   "source": [
    "# Turn Content into BS4\n",
    "document = BeautifulSoup(req.content.decode(encoding=\"utf-8\"))"
   ]
  },
  {
   "cell_type": "code",
   "execution_count": null,
   "metadata": {},
   "outputs": [],
   "source": [
    "# Find all table elements in the document\n",
    "tables = document.find_all(name='table')"
   ]
  },
  {
   "cell_type": "code",
   "execution_count": null,
   "metadata": {},
   "outputs": [],
   "source": [
    "# Get the table document that has \n",
    "for tbl in tables:\n",
    "    if tbl.find(text=re.compile('.*Picture.*')):\n",
    "        res = tbl"
   ]
  },
  {
   "cell_type": "code",
   "execution_count": null,
   "metadata": {},
   "outputs": [],
   "source": [
    "seasons = [str(season) for season in range(46,51,1)]\n",
    "episodes = [(str('00')+str(i))[-2:] for i in range(1,36,1)]\n",
    "from itertools import product\n"
   ]
  },
  {
   "cell_type": "code",
   "execution_count": null,
   "metadata": {},
   "outputs": [],
   "source": [
    "seasons = [str(season) for season in range(46,51,1)]\n",
    "episodes = [(str('00')+str(i))[-2:] for i in range(1,36,1)]\n",
    "episodeList = [''.join(i) for i in product(seasons,episodes)]\n",
    "\n",
    "episodeSummaries = []\n",
    "#for episode in episodeList[:]:\n",
    "episode=4715\n",
    "imgName = pathlib.Path(f'C:\\\\Users\\\\riwolff\\\\Documents\\\\me_want_cookie\\\\data\\\\raw\\\\images\\\\{episode}')\n",
    "imgName.mkdir(parents=True, exist_ok=True)\n",
    "\n",
    "url = f\"https://muppet.fandom.com/wiki/Episode_{episode}\"\n",
    "req = requests.get(url)\n",
    "document = BeautifulSoup(req.content.decode(encoding=\"utf-8\"))\n",
    "tables = document.find_all(name='table')\n",
    "\n",
    "# Get the table document that has \n",
    "for tbl in tables:\n",
    "    if tbl.find(text=re.compile('.*Picture.*')):\n",
    "        res = tbl\n",
    "        break\n",
    "\n",
    "txt = []\n",
    "rows = res.find_all(name='tr')\n",
    "i = 0\n",
    "for row in rows:\n",
    "    cols = row.find_all(name='td')\n",
    "    rowText = [episode]\n",
    "    for j, col in enumerate(cols):\n",
    "        if j == 0:\n",
    "                for a in col.find_all('a', href=True):\n",
    "                    imgNum = '00'+str(i)\n",
    "                    imgNum = imgNum[-3:] + '.jpg'\n",
    "                    save_img(a['href'], imgName / imgNum)\n",
    "                    i += 1\n",
    "        elif j == 1:\n",
    "            rowText.append(col.text.strip().replace(\"cont'd\",''))\n",
    "        else:\n",
    "            wordsCleaned = [r.getText().strip() if not isinstance(r,str) else r.strip() for r in col.contents]    \n",
    "            rowText.append(' '.join(wordsCleaned).strip())\n",
    "\n",
    "    txt.append(rowText)\n",
    "episodeSummaries.append(pd.DataFrame(txt,columns=['Episode','Segment','Description']))\n",
    "        "
   ]
  },
  {
   "cell_type": "code",
   "execution_count": null,
   "metadata": {},
   "outputs": [],
   "source": [
    "df = pd.concat(episodeSummaries)\n",
    "df['Episode'] = df['Episode'].astype(int)\n",
    "df = df[df['Episode']<5024].dropna(subset=['Segment','Description'])\n",
    "df.to_csv(pathlib.Path(f'C:\\\\Users\\\\riwolff\\\\Documents\\\\me_want_cookie\\\\data\\\\raw\\\\seasons46to50.csv'), index=False)"
   ]
  },
  {
   "cell_type": "code",
   "execution_count": null,
   "metadata": {},
   "outputs": [],
   "source": [
    "df[df['Episode']==4715]"
   ]
  },
  {
   "cell_type": "code",
   "execution_count": null,
   "metadata": {},
   "outputs": [],
   "source": [
    "pic_url = 'https://vignette.wikia.nocookie.net/muppet/images/8/87/5019a.png/revision/latest?cb=20200322030436'\n",
    "\n",
    "\n",
    "def save_img(pic_url, imgName):\n",
    "    with open(imgName, 'wb') as handle:\n",
    "            response = requests.get(pic_url, stream=True)\n",
    "\n",
    "            if not response.ok:\n",
    "                print(response)\n",
    "\n",
    "            for block in response.iter_content(1024):\n",
    "                if not block:\n",
    "                    break\n",
    "\n",
    "                handle.write(block)\n",
    "    return None"
   ]
  },
  {
   "cell_type": "code",
   "execution_count": null,
   "metadata": {},
   "outputs": [],
   "source": [
    "season = 5019\n",
    "imgName = pathlib.Path(f'C:\\\\Users\\\\riwolff\\\\Documents\\\\me_want_cookie\\\\data\\\\raw\\\\images\\\\{season}')\n",
    "imgName\n",
    "#save_img(pic_url, path.joinpath('001.jpg'))"
   ]
  },
  {
   "cell_type": "code",
   "execution_count": null,
   "metadata": {},
   "outputs": [],
   "source": []
  },
  {
   "cell_type": "code",
   "execution_count": null,
   "metadata": {},
   "outputs": [],
   "source": []
  }
 ],
 "metadata": {
  "kernelspec": {
   "display_name": "Python 3",
   "language": "python",
   "name": "python3"
  },
  "language_info": {
   "codemirror_mode": {
    "name": "ipython",
    "version": 3
   },
   "file_extension": ".py",
   "mimetype": "text/x-python",
   "name": "python",
   "nbconvert_exporter": "python",
   "pygments_lexer": "ipython3",
   "version": "3.8.2"
  }
 },
 "nbformat": 4,
 "nbformat_minor": 4
}
